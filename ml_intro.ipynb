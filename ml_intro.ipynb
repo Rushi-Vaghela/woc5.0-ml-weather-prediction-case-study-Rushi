{
 "cells": [
  {
   "cell_type": "code",
   "execution_count": 56,
   "id": "aa911c98",
   "metadata": {},
   "outputs": [
    {
     "name": "stdout",
     "output_type": "stream",
     "text": [
      "                                          Video Link Video Views  \\\n",
      "0        https://www.youtube.com/watch?v=_0fUOJ55gis     146,059   \n",
      "1        https://www.youtube.com/watch?v=_70MSLPRfZI     231,969   \n",
      "2  https://www.youtube.com/watch?v=_8gfCdt3H00&t=87s         878   \n",
      "3        https://www.youtube.com/watch?v=_CkFNJgKsFs       9,965   \n",
      "4        https://www.youtube.com/watch?v=_GFkHA5EZdE  39,780,561   \n",
      "\n",
      "                                         Video Title  \\\n",
      "0    Samse - Didupe Off-road Royal Enfield Himalayan   \n",
      "1                           Bhoom Baddhal Web Series   \n",
      "2  Customer Psychology, Four Views Of Consumer De...   \n",
      "3     Top countries with proven natural gas reserves   \n",
      "4                     73 Questions With Selena Gomez   \n",
      "\n",
      "                                         Channel URL Creator Name  \\\n",
      "0                https://www.youtube.com/c/sriharick   srihari ck   \n",
      "1         https://www.youtube.com/c/ChaibisketTelugu  Chai Bisket   \n",
      "2  https://www.youtube.com/channel/UCcIUnCsBfONvb...  Virda Warsi   \n",
      "3                 https://www.youtube.com/c/trtworld          TRT   \n",
      "4                                    Vogue - YouTube        Vogue   \n",
      "\n",
      "  Creator Gender Total Channel Subcribers Total Chanel Views  \\\n",
      "0           Male                    40200            7964284   \n",
      "1           Male                   920000          137535681   \n",
      "2         Female                      458              72945   \n",
      "3            NaN                  1680000          541653219   \n",
      "4            NaN                 12100000         3600496171   \n",
      "\n",
      "  Duration of Video Duration in Seconds  ... Video Description  Hashtags  \\\n",
      "0         00:30:41             1,841.00  ...               Yes         0   \n",
      "1         00:14:24               864.00  ...               Yes         1   \n",
      "2           0:08:12              492.00  ...               Yes         0   \n",
      "3           0:01:06               66.00  ...               Yes         0   \n",
      "4           0:07:40              460.00  ...               Yes         0   \n",
      "\n",
      "  No of Comments Date of the Last Comment Maximum Quality of the Video  \\\n",
      "0            419                 8/6/2022                         1080   \n",
      "1            189                6/15/2022                         1080   \n",
      "2              0                      NaN                          720   \n",
      "3             77                9/22/2022                         1080   \n",
      "4          28221                9/23/2022                         1080   \n",
      "\n",
      "   No of Videos the Channel No of Playlist Premiered or Not  \\\n",
      "0                       462           12.0               No   \n",
      "1                       251           12.0              Yes   \n",
      "2                       158            0.0               No   \n",
      "3                     46509           48.0               No   \n",
      "4                      2872          113.0               No   \n",
      "\n",
      "   Community Engagement (Posts per week)  Intern Who Collected the Data  \n",
      "0                                      1                     Akhil Teja  \n",
      "1                                      2                     Akhil Teja  \n",
      "2                                      0                    Syed safdar  \n",
      "3                                     20                    Syed safdar  \n",
      "4                                      1                    Rahul Singh  \n",
      "\n",
      "[5 rows x 24 columns]\n"
     ]
    }
   ],
   "source": [
    "import pandas as pd\n",
    "\n",
    "df = pd.read_csv('F:\\pandas-master\\pandas-master\\Youtube_Influencer_Analysis_Updated.csv', encoding = \"ISO-8859-1\")\n",
    "\n",
    "print(df.head())"
   ]
  },
  {
   "cell_type": "code",
   "execution_count": 57,
   "id": "a02e3545",
   "metadata": {},
   "outputs": [
    {
     "data": {
      "text/plain": [
       "Video Link                                 0\n",
       "Video Views                                0\n",
       "Video Title                                0\n",
       "Channel URL                                0\n",
       "Creator Name                              11\n",
       "Creator Gender                           314\n",
       "Total Channel Subcribers                   0\n",
       "Total Chanel Views                         0\n",
       "Duration of Video                          0\n",
       "Duration in Seconds                        0\n",
       "Date of Video Upload                       0\n",
       "No of Likes                                1\n",
       "Language of the Video                     21\n",
       "Subtitle                                   1\n",
       "Video Description                          0\n",
       "Hashtags                                   0\n",
       "No of Comments                             0\n",
       "Date of the Last Comment                  24\n",
       "Maximum Quality of the Video               0\n",
       "No of Videos the Channel                   0\n",
       "No of Playlist                             9\n",
       "Premiered or Not                           0\n",
       "Community Engagement (Posts per week)      0\n",
       "Intern Who Collected the Data              0\n",
       "dtype: int64"
      ]
     },
     "execution_count": 57,
     "metadata": {},
     "output_type": "execute_result"
    }
   ],
   "source": [
    "df.isna().sum()"
   ]
  },
  {
   "cell_type": "code",
   "execution_count": 58,
   "id": "9159c026",
   "metadata": {},
   "outputs": [],
   "source": [
    "df.fillna(\"0\", inplace = True)"
   ]
  },
  {
   "cell_type": "code",
   "execution_count": 59,
   "id": "bd08c056",
   "metadata": {},
   "outputs": [
    {
     "data": {
      "text/plain": [
       "Video Link                               0\n",
       "Video Views                              0\n",
       "Video Title                              0\n",
       "Channel URL                              0\n",
       "Creator Name                             0\n",
       "Creator Gender                           0\n",
       "Total Channel Subcribers                 0\n",
       "Total Chanel Views                       0\n",
       "Duration of Video                        0\n",
       "Duration in Seconds                      0\n",
       "Date of Video Upload                     0\n",
       "No of Likes                              0\n",
       "Language of the Video                    0\n",
       "Subtitle                                 0\n",
       "Video Description                        0\n",
       "Hashtags                                 0\n",
       "No of Comments                           0\n",
       "Date of the Last Comment                 0\n",
       "Maximum Quality of the Video             0\n",
       "No of Videos the Channel                 0\n",
       "No of Playlist                           0\n",
       "Premiered or Not                         0\n",
       "Community Engagement (Posts per week)    0\n",
       "Intern Who Collected the Data            0\n",
       "dtype: int64"
      ]
     },
     "execution_count": 59,
     "metadata": {},
     "output_type": "execute_result"
    }
   ],
   "source": [
    "df.isna().sum()"
   ]
  },
  {
   "cell_type": "code",
   "execution_count": 64,
   "id": "9c6f648d",
   "metadata": {},
   "outputs": [
    {
     "name": "stdout",
     "output_type": "stream",
     "text": [
      "                                          Video Link Video Views  \\\n",
      "0        https://www.youtube.com/watch?v=_0fUOJ55gis     146,059   \n",
      "1        https://www.youtube.com/watch?v=_70MSLPRfZI     231,969   \n",
      "2  https://www.youtube.com/watch?v=_8gfCdt3H00&t=87s         878   \n",
      "3        https://www.youtube.com/watch?v=_CkFNJgKsFs       9,965   \n",
      "4        https://www.youtube.com/watch?v=_GFkHA5EZdE  39,780,561   \n",
      "\n",
      "                                         Video Title  \\\n",
      "0    Samse - Didupe Off-road Royal Enfield Himalayan   \n",
      "1                           Bhoom Baddhal Web Series   \n",
      "2  Customer Psychology, Four Views Of Consumer De...   \n",
      "3     Top countries with proven natural gas reserves   \n",
      "4                     73 Questions With Selena Gomez   \n",
      "\n",
      "                                         Channel URL Creator Name  \\\n",
      "0                https://www.youtube.com/c/sriharick   srihari ck   \n",
      "1         https://www.youtube.com/c/ChaibisketTelugu  Chai Bisket   \n",
      "2  https://www.youtube.com/channel/UCcIUnCsBfONvb...  Virda Warsi   \n",
      "3                 https://www.youtube.com/c/trtworld          TRT   \n",
      "4                                    Vogue - YouTube        Vogue   \n",
      "\n",
      "  Creator Gender Total Channel Subcribers Total Chanel Views  \\\n",
      "0           Male                    40200            7964284   \n",
      "1           Male                   920000          137535681   \n",
      "2         Female                      458              72945   \n",
      "3              0                  1680000          541653219   \n",
      "4              0                 12100000         3600496171   \n",
      "\n",
      "  Duration of Video Duration in Seconds  ... Subtitle Video Description  \\\n",
      "0         00:30:41             1,841.00  ...       No               Yes   \n",
      "1         00:14:24               864.00  ...       No               Yes   \n",
      "2           0:08:12              492.00  ...       No               Yes   \n",
      "3           0:01:06               66.00  ...       No               Yes   \n",
      "4           0:07:40              460.00  ...      yes               Yes   \n",
      "\n",
      "  Hashtags No of Comments Date of the Last Comment  \\\n",
      "0        0            419                 8/6/2022   \n",
      "1        1            189                6/15/2022   \n",
      "2        0              0                        0   \n",
      "3        0             77                9/22/2022   \n",
      "4        0          28221                9/23/2022   \n",
      "\n",
      "   Maximum Quality of the Video No of Videos the Channel No of Playlist  \\\n",
      "0                          1080                      462           12.0   \n",
      "1                          1080                      251           12.0   \n",
      "2                           720                      158            0.0   \n",
      "3                          1080                    46509           48.0   \n",
      "4                          1080                     2872          113.0   \n",
      "\n",
      "   Premiered or Not  Community Engagement (Posts per week)  \n",
      "0                No                                      1  \n",
      "1               Yes                                      2  \n",
      "2                No                                      0  \n",
      "3                No                                     20  \n",
      "4                No                                      1  \n",
      "\n",
      "[5 rows x 23 columns]\n"
     ]
    }
   ],
   "source": [
    "df.drop(\"Intern Who Collected the Data\", axis = 1, inplace = True)\n",
    "\n",
    "print(df.head())"
   ]
  }
 ],
 "metadata": {
  "kernelspec": {
   "display_name": "Python 3 (ipykernel)",
   "language": "python",
   "name": "python3"
  },
  "language_info": {
   "codemirror_mode": {
    "name": "ipython",
    "version": 3
   },
   "file_extension": ".py",
   "mimetype": "text/x-python",
   "name": "python",
   "nbconvert_exporter": "python",
   "pygments_lexer": "ipython3",
   "version": "3.9.13"
  }
 },
 "nbformat": 4,
 "nbformat_minor": 5
}
